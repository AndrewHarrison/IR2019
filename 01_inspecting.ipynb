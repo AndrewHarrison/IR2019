{
 "cells": [
  {
   "cell_type": "markdown",
   "metadata": {},
   "source": [
    "# Assignment 1: Inspecting the Dataset"
   ]
  },
  {
   "cell_type": "markdown",
   "metadata": {},
   "source": [
    "In this first assignment, we will get to know the dataset that we will be using throughout. You can find the assignment tasks at the bottom of this document.\n",
    "\n",
    "Our dataset consists of short texts (article abstracts) from the [PubMed](https://www.ncbi.nlm.nih.gov/pubmed/) database of scientific publications in the Life Science domain. As the full dataset consists of millions of documents, we are using just a small subset, namely all publications that contain the word \"allergy\" in their title or abstract. You can download that dataset in the form of four files (`allergy_Summaries.pkl.bz2`, etc.) from Canvas. Save these four files in a directory called `data` (do not unpack them, but save them as .bz2 files!), which should be a sub-directory of the one that contains this notebook file."
   ]
  },
  {
   "cell_type": "markdown",
   "metadata": {},
   "source": [
    "## Importing some Libraries"
   ]
  },
  {
   "cell_type": "code",
   "execution_count": 1,
   "metadata": {},
   "outputs": [],
   "source": [
    "from collections import namedtuple, defaultdict, Counter\n",
    "import pickle, bz2"
   ]
  },
  {
   "cell_type": "markdown",
   "metadata": {},
   "source": [
    "## Loading the Dataset"
   ]
  },
  {
   "cell_type": "code",
   "execution_count": 2,
   "metadata": {},
   "outputs": [],
   "source": [
    "Summaries_file = 'data/allergy_Summaries.pkl.bz2'\n",
    "Summaries = pickle.load( bz2.BZ2File( Summaries_file, 'rb' ) )"
   ]
  },
  {
   "cell_type": "markdown",
   "metadata": {},
   "source": [
    "To make it easier to access the data, we convert here paper entries into [named tuples](http://docs.python.org/3/library/collections.html#collections.namedtuple). This will allow us to refer to fields by keyword (like `var.year`), rather than index (like `var[2]`)."
   ]
  },
  {
   "cell_type": "code",
   "execution_count": 3,
   "metadata": {},
   "outputs": [],
   "source": [
    "paper = namedtuple( 'paper', ['title', 'authors', 'year', 'doi'] )\n",
    "\n",
    "for (id, paper_info) in Summaries.items():\n",
    "    Summaries[id] = paper( *paper_info )"
   ]
  },
  {
   "cell_type": "code",
   "execution_count": 4,
   "metadata": {},
   "outputs": [
    {
     "data": {
      "text/plain": [
       "paper(title='Forum: Immunology: Allergy challenged.', authors=['Artis D', 'Maizels RM', 'Finkelman FD'], year=2012, doi='10.1038/484458a')"
      ]
     },
     "execution_count": 4,
     "metadata": {},
     "output_type": "execute_result"
    }
   ],
   "source": [
    "Summaries[22538601]"
   ]
  },
  {
   "cell_type": "code",
   "execution_count": 5,
   "metadata": {},
   "outputs": [
    {
     "data": {
      "text/plain": [
       "'Forum: Immunology: Allergy challenged.'"
      ]
     },
     "execution_count": 5,
     "metadata": {},
     "output_type": "execute_result"
    }
   ],
   "source": [
    "Summaries[22538601].title"
   ]
  },
  {
   "cell_type": "markdown",
   "metadata": {},
   "source": [
    "## Dataset Statistics"
   ]
  },
  {
   "cell_type": "markdown",
   "metadata": {},
   "source": [
    "The two lines below will install [matplotlib](http://matplotlib.org/) and [NumPy](http://www.numpy.org/), if they are not installed already (if that doesn't work, you might have to download and install them from [here](http://matplotlib.org/downloads.html) and [here](http://sourceforge.net/projects/numpy/files/NumPy/1.10.1/)). We will need these libraries for drawing diagrams and analyzing the data below."
   ]
  },
  {
   "cell_type": "code",
   "execution_count": 6,
   "metadata": {},
   "outputs": [
    {
     "name": "stdout",
     "output_type": "stream",
     "text": [
      "Requirement already satisfied: matplotlib in /usr/lib/python3/dist-packages (3.0.2)\n",
      "Requirement already satisfied: numpy in /usr/lib/python3/dist-packages (1.16.2)\n"
     ]
    }
   ],
   "source": [
    "! pip install --user matplotlib\n",
    "! pip install --user numpy"
   ]
  },
  {
   "cell_type": "code",
   "execution_count": 7,
   "metadata": {},
   "outputs": [],
   "source": [
    "import matplotlib.pyplot as plt\n",
    "\n",
    "# show plots inline within the notebook\n",
    "%matplotlib inline\n",
    "# set plots' resolution\n",
    "plt.rcParams['savefig.dpi'] = 100"
   ]
  },
  {
   "cell_type": "markdown",
   "metadata": {},
   "source": [
    "### Papers per Year"
   ]
  },
  {
   "cell_type": "markdown",
   "metadata": {},
   "source": [
    "First, we will try to find out how many papers in the dataset were published per year. We are using the [Counter](https://docs.python.org/3/library/collections.html#collections.Counter) class for this."
   ]
  },
  {
   "cell_type": "code",
   "execution_count": 8,
   "metadata": {},
   "outputs": [
    {
     "name": "stdout",
     "output_type": "stream",
     "text": [
      "Number of papers in the dataset per year for the past decade:\n",
      "[(2011, 2276), (2012, 2244), (2013, 2458), (2014, 2769), (2015, 2796), (2016, 2965), (2017, 3068), (2018, 3114), (2019, 3005), (2020, 4)]\n"
     ]
    }
   ],
   "source": [
    "paper_years = [ p.year for p in Summaries.values() ]\n",
    "papers_per_year = sorted( Counter(paper_years).items() )\n",
    "\n",
    "print('Number of papers in the dataset per year for the past decade:')\n",
    "print(papers_per_year[-10:])"
   ]
  },
  {
   "cell_type": "markdown",
   "metadata": {},
   "source": [
    "Filtering results, to obain only papers since 1940:"
   ]
  },
  {
   "cell_type": "code",
   "execution_count": 9,
   "metadata": {},
   "outputs": [
    {
     "name": "stdout",
     "output_type": "stream",
     "text": [
      "Number of papers in the dataset published since 1940:\n",
      "73646\n"
     ]
    }
   ],
   "source": [
    "papers_per_year_since_1940 = [ (y,count) for (y,count) in papers_per_year if y >= 1940 ]\n",
    "years_since_1940 = [ y for (y,count) in papers_per_year_since_1940 ]\n",
    "nr_papers_since_1940 = [ count for (y,count) in papers_per_year_since_1940 ]\n",
    "\n",
    "print('Number of papers in the dataset published since 1940:')\n",
    "print(sum(nr_papers_since_1940))"
   ]
  },
  {
   "cell_type": "markdown",
   "metadata": {},
   "source": [
    "Creating a bar plot to visualize the results (using [matplotlib.pyplot.bar](http://matplotlib.org/api/pyplot_api.html#matplotlib.pyplot.bar)):"
   ]
  },
  {
   "cell_type": "code",
   "execution_count": 10,
   "metadata": {},
   "outputs": [
    {
     "data": {
      "image/png": "[encoded data removed]",
      "text/plain": [
       "<Figure size 432x288 with 1 Axes>"
      ]
     },
     "metadata": {
      "needs_background": "light"
     },
     "output_type": "display_data"
    }
   ],
   "source": [
    "plt.bar(x=years_since_1940, height=nr_papers_since_1940, width=1.0)\n",
    "plt.xlim(1940, 2019)\n",
    "plt.xlabel('year')\n",
    "plt.ylabel('number of papers');"
   ]
  },
  {
   "cell_type": "markdown",
   "metadata": {},
   "source": [
    "Alternatively, we can get the same result by plotting it as a histogram with [matplotlib.pyplot.hist](http://matplotlib.org/api/pyplot_api.html#matplotlib.pyplot.hist):"
   ]
  },
  {
   "cell_type": "code",
   "execution_count": 11,
   "metadata": {},
   "outputs": [
    {
     "data": {
      "image/png": "[encoded data removed]",
      "text/plain": [
       "<Figure size 432x288 with 1 Axes>"
      ]
     },
     "metadata": {
      "needs_background": "light"
     },
     "output_type": "display_data"
    }
   ],
   "source": [
    "plt.hist( x=[p.year for p in Summaries.values()], bins=range(1940,2021) );\n",
    "plt.xlim(1940, 2020)\n",
    "plt.xlabel('year')\n",
    "plt.ylabel('number of papers');"
   ]
  },
  {
   "cell_type": "markdown",
   "metadata": {},
   "source": [
    "### Papers per Author"
   ]
  },
  {
   "cell_type": "markdown",
   "metadata": {},
   "source": [
    "Here, we will obtain the distribution characterizing the number of papers published by an author."
   ]
  },
  {
   "cell_type": "code",
   "execution_count": 12,
   "metadata": {},
   "outputs": [],
   "source": [
    "# flattening the list of lists of authors:\n",
    "flat_author_list = [ auth for paper in Summaries.values() for auth in paper.authors ]\n",
    "\n",
    "nr_papers_by_author = Counter( flat_author_list )"
   ]
  },
  {
   "cell_type": "code",
   "execution_count": 13,
   "metadata": {},
   "outputs": [
    {
     "name": "stdout",
     "output_type": "stream",
     "text": [
      "Number of authors in the dataset with distinct names:\n",
      "137755\n"
     ]
    }
   ],
   "source": [
    "print('Number of authors in the dataset with distinct names:')\n",
    "print(len(nr_papers_by_author))"
   ]
  },
  {
   "cell_type": "code",
   "execution_count": 14,
   "metadata": {},
   "outputs": [
    {
     "name": "stdout",
     "output_type": "stream",
     "text": [
      "Top 50 authors with greatest number of papers:\n",
      "[('Valenta R', 335), ('Sampson HA', 313), ('Bousquet J', 270), ('Bruze M', 259), ('Canonica GW', 248), ('Johansen JD', 240), ('Passalacqua G', 232), ('Demoly P', 231), ('Menné T', 219), ('Ring J', 208), ('Wahn U', 193), ('Burks AW', 185), ('Sicherer SH', 181), ('Vieths S', 181), ('Moneret-Vautrin DA', 181), ('Niggemann B', 167), ('Wüthrich B', 162), ('Sheikh A', 161), ('van Ree R', 158), ('Andersen KE', 158), ('Beyer K', 157), ('Asero R', 157), ('Akdis CA', 155), ('Allen KJ', 154), ('Bindslev-Jensen C', 154), ('Muraro A', 152), ('Ciprandi G', 152), ('Incorvaia C', 151), ('Fiocchi A', 149), ('Roberts G', 146), ('Kraft D', 146), ('Ebisawa M', 145), ('Wood RA', 144), ('Uter W', 140), ('Wang J', 137), ('Ebner C', 137), ('Haahtela T', 132), ('Thyssen JP', 132), ('Björkstén B', 129), ('Papadopoulos NG', 128), ('Zuberbier T', 128), ('Lack G', 128), ('Zhang Y', 127), ('Knulst AC', 126), ('Wickman M', 124), ('Warner JO', 122), ('Kimber I', 120), ('Ferreira F', 119), ('Poulsen LK', 118), ('Goossens A', 118)]\n"
     ]
    }
   ],
   "source": [
    "print('Top 50 authors with greatest number of papers:')\n",
    "print(sorted(nr_papers_by_author.items(), key=lambda i:i[1], reverse=True)[:50])"
   ]
  },
  {
   "cell_type": "markdown",
   "metadata": {},
   "source": [
    "Then we can create a histogram to visualize the results:"
   ]
  },
  {
   "cell_type": "code",
   "execution_count": 15,
   "metadata": {},
   "outputs": [
    {
     "data": {
      "image/png": "[encoded data removed]",
      "text/plain": [
       "<Figure size 432x288 with 1 Axes>"
      ]
     },
     "metadata": {
      "needs_background": "light"
     },
     "output_type": "display_data"
    }
   ],
   "source": [
    "plt.hist( x=list(nr_papers_by_author.values()), bins=range(51), log=True )\n",
    "plt.xlabel('number of papers authored')\n",
    "plt.ylabel('number of authors');"
   ]
  },
  {
   "cell_type": "markdown",
   "metadata": {},
   "source": [
    "### Authors per Paper"
   ]
  },
  {
   "cell_type": "markdown",
   "metadata": {},
   "source": [
    "Then we can make a similar analysis for the number of authors per paper:"
   ]
  },
  {
   "cell_type": "code",
   "execution_count": 16,
   "metadata": {},
   "outputs": [
    {
     "data": {
      "image/png": "[encoded data removed]",
      "text/plain": [
       "<Figure size 432x288 with 1 Axes>"
      ]
     },
     "metadata": {
      "needs_background": "light"
     },
     "output_type": "display_data"
    }
   ],
   "source": [
    "plt.hist( x=[ len(p.authors) for p in Summaries.values() ], bins=range(20), align='left' )\n",
    "plt.xlabel('number of authors in one paper')\n",
    "plt.ylabel('fraction of papers')\n",
    "plt.xlim(-0.5, 15.5);"
   ]
  },
  {
   "cell_type": "markdown",
   "metadata": {},
   "source": [
    "### Words in Titles"
   ]
  },
  {
   "cell_type": "markdown",
   "metadata": {},
   "source": [
    "And then we can have a first look into the words we find in titles (applying a very naive word splitting method for now):"
   ]
  },
  {
   "cell_type": "code",
   "execution_count": 17,
   "metadata": {},
   "outputs": [
    {
     "name": "stdout",
     "output_type": "stream",
     "text": [
      "Number of distinct words in the paper titles:\n",
      "63474\n"
     ]
    }
   ],
   "source": [
    "words = [ word.lower() for paper in Summaries.values() for word in paper.title.split(' ') ]\n",
    "word_counts = Counter(words)\n",
    "\n",
    "print('Number of distinct words in the paper titles:')\n",
    "print(len(word_counts))"
   ]
  },
  {
   "cell_type": "markdown",
   "metadata": {},
   "source": [
    "----------"
   ]
  },
  {
   "cell_type": "markdown",
   "metadata": {},
   "source": [
    "# Tasks"
   ]
  },
  {
   "cell_type": "markdown",
   "metadata": {},
   "source": [
    "**Your name:** ..."
   ]
  },
  {
   "cell_type": "markdown",
   "metadata": {},
   "source": [
    "### Task 1\n",
    "\n",
    "Create a Python dictionary object that returns sets of author names for a given year. Name this dictionary `authors_at_year`. (You can use a [*defaultdict*](https://docs.python.org/3/library/collections.html#collections.defaultdict) with a default value of [*set*](https://docs.python.org/3/library/stdtypes.html#set-types-set-frozenset).) Demonstrate the working of this dictionary by showing the author set for the year 1935."
   ]
  },
  {
   "cell_type": "code",
   "execution_count": 19,
   "metadata": {},
   "outputs": [],
   "source": [
    "# Add your code here"
   ]
  },
  {
   "cell_type": "markdown",
   "metadata": {},
   "source": [
    "### Task 2\n",
    "\n",
    "Based on the dictionary `authors_at_year` from exercise 1 above, create a plot for the years from 1940 until now that shows how many authors published at least one paper in the given particular year. (You can retrieve the number of unique items in a set `s` with `len(s)`.)"
   ]
  },
  {
   "cell_type": "code",
   "execution_count": null,
   "metadata": {},
   "outputs": [],
   "source": [
    "# Add your code here"
   ]
  },
  {
   "cell_type": "markdown",
   "metadata": {},
   "source": [
    "### Task 3\n",
    "\n",
    "Print out the top 10 most often occurring words in the papers' titles together with their frequency (in descending order with respect to the frequency). Use the data structures created above (in the sections before the tasks)."
   ]
  },
  {
   "cell_type": "code",
   "execution_count": null,
   "metadata": {},
   "outputs": [],
   "source": [
    "# Add your code here"
   ]
  },
  {
   "cell_type": "markdown",
   "metadata": {},
   "source": [
    "### Task 4\n",
    "\n",
    "Calculate and plot (e.g. using [plt.plot](http://matplotlib.org/api/pyplot_api.html#matplotlib.pyplot.plot)) a graph of the frequency of the 100 most frequent words in titles of papers, from most frequent to least frequent. (For readability, don't show the actual words.) Make again use of the data structures created above."
   ]
  },
  {
   "cell_type": "code",
   "execution_count": null,
   "metadata": {},
   "outputs": [],
   "source": [
    "# Add your code here"
   ]
  },
  {
   "cell_type": "markdown",
   "metadata": {},
   "source": [
    "### Task 5\n",
    "\n",
    "What do you notice when looking at the top 10 most frequent words? Explain all types of words we find in this top-10 and why."
   ]
  },
  {
   "cell_type": "markdown",
   "metadata": {},
   "source": [
    "**Answer:** [_Write your answer text here_]"
   ]
  },
  {
   "cell_type": "markdown",
   "metadata": {},
   "source": [
    "# Submission"
   ]
  },
  {
   "cell_type": "markdown",
   "metadata": {},
   "source": [
    "Submit the answers to the assignment via Canvas as a modified version of this Notebook file (file with `.ipynb` extension) that includes your code and your answers.\n",
    "\n",
    "Before submitting, restart the kernel and re-run the complete code (**Kernel > Restart & Run All**), and then check whether your assignment code still works as expected.\n",
    "\n",
    "Don't forget to add your name, and remember that the assignments have to be done individually and group submissions are **not allowed**."
   ]
  }
 ],
 "metadata": {
  "kernelspec": {
   "display_name": "Python 3",
   "language": "python",
   "name": "python3"
  },
  "language_info": {
   "codemirror_mode": {
    "name": "ipython",
    "version": 3
   },
   "file_extension": ".py",
   "mimetype": "text/x-python",
   "name": "python",
   "nbconvert_exporter": "python",
   "pygments_lexer": "ipython3",
   "version": "3.7.3"
  }
 },
 "nbformat": 4,
 "nbformat_minor": 1
}
